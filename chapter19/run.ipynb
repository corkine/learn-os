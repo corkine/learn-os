{
 "cells": [
  {
   "cell_type": "code",
   "execution_count": 40,
   "metadata": {},
   "outputs": [],
   "source": [
    "import os, re\n",
    "import matplotlib.pyplot as plt\n",
    "import numpy as np"
   ]
  },
  {
   "cell_type": "code",
   "execution_count": 31,
   "metadata": {},
   "outputs": [
    {
     "data": {
      "text/plain": [
       "0"
      ]
     },
     "execution_count": 31,
     "metadata": {},
     "output_type": "execute_result"
    }
   ],
   "source": [
    "cmd_build = \"gcc -O1 -o mac mac.c\"\n",
    "cmd_run = \"./mac %s\"\n",
    "os.system(cmd_build)"
   ]
  },
  {
   "cell_type": "code",
   "execution_count": 48,
   "metadata": {},
   "outputs": [],
   "source": [
    "example = \"xxxx, cost time: 0.133 us\"\n",
    "float(re.search(r'time:\\s+([\\d.]+)', example).group(1))\n",
    "def out2time(input:str)->float:\n",
    "    return float(re.search(r'time:\\s+([\\d.]+)', input).group(1))\n",
    "def call(cmd:str):\n",
    "    print(\"exec command: %s\"%cmd)\n",
    "    out = \"out.temp\"\n",
    "    os.system(\"%s > %s\"%(cmd,out))\n",
    "    with open(out, \"r\") as r:\n",
    "        data = r.readline()\n",
    "        print(\"output is: %s\"%data)\n",
    "        res = out2time(data)\n",
    "    os.remove(out)\n",
    "    return res"
   ]
  },
  {
   "cell_type": "code",
   "execution_count": 49,
   "metadata": {},
   "outputs": [
    {
     "name": "stdout",
     "output_type": "stream",
     "text": [
      "exec command: ./mac 4\n",
      "exec command: ./mac 16\n",
      "exec command: ./mac 64\n",
      "exec command: ./mac 256\n",
      "exec command: ./mac 1024\n",
      "exec command: ./mac 4096\n",
      "exec command: ./mac 8192\n"
     ]
    }
   ],
   "source": [
    "pages = [4,16,64,256,1024,1024 * 4,1024 * 8]\n",
    "times = list(map(lambda page: call(cmd_run%page), pages))"
   ]
  },
  {
   "cell_type": "code",
   "execution_count": 52,
   "metadata": {},
   "outputs": [
    {
     "data": {
      "text/plain": [
       "[<matplotlib.lines.Line2D at 0x11adc9b50>]"
      ]
     },
     "execution_count": 52,
     "metadata": {},
     "output_type": "execute_result"
    },
    {
     "data": {
      "image/png": "[encoded data removed]",
      "text/plain": [
       "<Figure size 432x288 with 1 Axes>"
      ]
     },
     "metadata": {
      "needs_background": "light"
     },
     "output_type": "display_data"
    }
   ],
   "source": [
    "plt.plot(pages, times, \"r--.\")\n",
    "# Note. Run each page serval times and get avg time will plot better."
   ]
  },
  {
   "cell_type": "code",
   "execution_count": 53,
   "metadata": {},
   "outputs": [],
   "source": [
    "os.remove(\"mac\")"
   ]
  }
 ],
 "metadata": {
  "interpreter": {
   "hash": "31f2aee4e71d21fbe5cf8b01ff0e069b9275f58929596ceb00d14d90e3e16cd6"
  },
  "kernelspec": {
   "display_name": "Python 3.8.9 64-bit",
   "language": "python",
   "name": "python3"
  },
  "language_info": {
   "codemirror_mode": {
    "name": "ipython",
    "version": 3
   },
   "file_extension": ".py",
   "mimetype": "text/x-python",
   "name": "python",
   "nbconvert_exporter": "python",
   "pygments_lexer": "ipython3",
   "version": "3.8.9"
  },
  "orig_nbformat": 4
 },
 "nbformat": 4,
 "nbformat_minor": 2
}
